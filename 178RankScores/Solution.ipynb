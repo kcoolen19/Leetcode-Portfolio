{
  "nbformat": 4,
  "nbformat_minor": 0,
  "metadata": {
    "colab": {
      "provenance": []
    },
    "kernelspec": {
      "name": "python3",
      "display_name": "Python 3"
    },
    "language_info": {
      "name": "python"
    }
  },
  "cells": [
    {
      "cell_type": "code",
      "execution_count": 2,
      "metadata": {
        "id": "KxHLAkGELcwn"
      },
      "outputs": [],
      "source": [
        "# Code\n",
        "import pandas as pd\n",
        "\n",
        "def order_scores(scores: pd.DataFrame) -> pd.DataFrame:\n",
        "    scores['rank'] = scores['score'].rank(method='dense', ascending=False).astype(int)\n",
        "    return scores[['score', 'rank']].sort_values('rank')"
      ]
    },
    {
      "cell_type": "code",
      "source": [
        "# Example Execution\n",
        "data = {\n",
        "    'id': [1, 2, 3, 4, 5, 6],\n",
        "    'score': [3.50, 3.65, 4.00, 3.85, 4.00, 3.65]\n",
        "}\n",
        "\n",
        "scores = pd.DataFrame(data)\n",
        "\n",
        "ordered_scores = order_scores(scores)\n",
        "print(ordered_scores)"
      ],
      "metadata": {
        "colab": {
          "base_uri": "https://localhost:8080/"
        },
        "id": "9nO7Zyb7L-c3",
        "outputId": "dbe941f9-0945-4f42-b4e2-811ddc6fd5fa"
      },
      "execution_count": 3,
      "outputs": [
        {
          "output_type": "stream",
          "name": "stdout",
          "text": [
            "   score  rank\n",
            "2   4.00     1\n",
            "4   4.00     1\n",
            "3   3.85     2\n",
            "1   3.65     3\n",
            "5   3.65     3\n",
            "0   3.50     4\n"
          ]
        }
      ]
    }
  ]
}